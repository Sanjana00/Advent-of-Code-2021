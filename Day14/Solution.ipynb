{
 "cells": [
  {
   "cell_type": "markdown",
   "metadata": {},
   "source": [
    "# --- Day 14: Extended Polymerization ---\n",
    "\n",
    "The incredible pressures at this depth are starting to put a strain on your submarine. The submarine has polymerization equipment that would produce suitable materials to reinforce the submarine, and the nearby volcanically-active caves should even have the necessary input elements in sufficient quantities.\n",
    "\n",
    "The submarine manual contains instructions for finding the optimal polymer formula; specifically, it offers a polymer template and a list of pair insertion rules (your puzzle input). You just need to work out what polymer would result after repeating the pair insertion process a few times.\n",
    "\n",
    "For example:\n",
    "\n",
    "    NNCB\n",
    "\n",
    "    CH -> B\n",
    "    HH -> N\n",
    "    CB -> H\n",
    "    NH -> C\n",
    "    HB -> C\n",
    "    HC -> B\n",
    "    HN -> C\n",
    "    NN -> C\n",
    "    BH -> H\n",
    "    NC -> B\n",
    "    NB -> B\n",
    "    BN -> B\n",
    "    BB -> N\n",
    "    BC -> B\n",
    "    CC -> N\n",
    "    CN -> C\n",
    "    \n",
    "The first line is the polymer template - this is the starting point of the process.\n",
    "\n",
    "The following section defines the pair insertion rules. A rule like AB -> C means that when elements A and B are immediately adjacent, element C should be inserted between them. These insertions all happen simultaneously.\n",
    "\n",
    "So, starting with the polymer template NNCB, the first step simultaneously considers all three pairs:\n",
    "\n",
    "    The first pair (NN) matches the rule NN -> C, so element C is inserted between the first N and the second N.\n",
    "    The second pair (NC) matches the rule NC -> B, so element B is inserted between the N and the C.\n",
    "    The third pair (CB) matches the rule CB -> H, so element H is inserted between the C and the B.\n",
    "    \n",
    "Note that these pairs overlap: the second element of one pair is the first element of the next pair. Also, because all pairs are considered simultaneously, inserted elements are not considered to be part of a pair until the next step.\n",
    "\n",
    "After the first step of this process, the polymer becomes NCNBCHB.\n",
    "\n",
    "Here are the results of a few steps using the above rules:\n",
    "\n",
    "    Template:     NNCB\n",
    "    After step 1: NCNBCHB\n",
    "    After step 2: NBCCNBBBCBHCB\n",
    "    After step 3: NBBBCNCCNBBNBNBBCHBHHBCHB\n",
    "    After step 4: NBBNBNBBCCNBCNCCNBBNBBNBBBNBBNBBCBHCBHHNHCBBCBHCB\n",
    "    \n",
    "This polymer grows quickly. After step 5, it has length 97; After step 10, it has length 3073. After step 10, B occurs 1749 times, C occurs 298 times, H occurs 161 times, and N occurs 865 times; taking the quantity of the most common element (B, 1749) and subtracting the quantity of the least common element (H, 161) produces 1749 - 161 = 1588.\n",
    "\n",
    "Apply 10 steps of pair insertion to the polymer template and find the most and least common elements in the result. What do you get if you take the quantity of the most common element and subtract the quantity of the least common element?"
   ]
  },
  {
   "cell_type": "code",
   "execution_count": 1,
   "metadata": {},
   "outputs": [
    {
     "data": {
      "text/plain": [
       "'SNPVPFCPPKSBNSPSPSOF'"
      ]
     },
     "execution_count": 1,
     "metadata": {},
     "output_type": "execute_result"
    }
   ],
   "source": [
    "rules = dict()\n",
    "\n",
    "with open('input.txt') as f:\n",
    "    template = f.readline().strip()\n",
    "    f.readline()\n",
    "    for line in f.readlines():\n",
    "        u, v = [x.strip() for x in line.split('->')]\n",
    "        rules[u] = u[0] + v + u[-1]\n",
    "        \n",
    "template"
   ]
  },
  {
   "cell_type": "code",
   "execution_count": 2,
   "metadata": {},
   "outputs": [
    {
     "data": {
      "text/plain": [
       "{'CF': 'CNF',\n",
       " 'NK': 'NBK',\n",
       " 'SF': 'SBF',\n",
       " 'HV': 'HPV',\n",
       " 'FN': 'FSN',\n",
       " 'VV': 'VFV',\n",
       " 'FO': 'FFO',\n",
       " 'VN': 'VVN',\n",
       " 'PV': 'PPV',\n",
       " 'FF': 'FPF',\n",
       " 'ON': 'OSN',\n",
       " 'PB': 'PSB',\n",
       " 'PK': 'PPK',\n",
       " 'OO': 'OPO',\n",
       " 'SP': 'SFP',\n",
       " 'VF': 'VHF',\n",
       " 'OV': 'OCV',\n",
       " 'BN': 'BPN',\n",
       " 'OH': 'OHH',\n",
       " 'NC': 'NFC',\n",
       " 'BH': 'BNH',\n",
       " 'CS': 'CCS',\n",
       " 'BC': 'BNC',\n",
       " 'OF': 'ONF',\n",
       " 'SN': 'SBN',\n",
       " 'FP': 'FFP',\n",
       " 'FV': 'FKV',\n",
       " 'HP': 'HHP',\n",
       " 'VB': 'VPB',\n",
       " 'FH': 'FFH',\n",
       " 'HF': 'HPF',\n",
       " 'BB': 'BOB',\n",
       " 'HH': 'HSH',\n",
       " 'PC': 'POC',\n",
       " 'PP': 'PBP',\n",
       " 'VS': 'VBS',\n",
       " 'HC': 'HHC',\n",
       " 'NS': 'NNS',\n",
       " 'KF': 'KSF',\n",
       " 'BO': 'BVO',\n",
       " 'NP': 'NSP',\n",
       " 'NF': 'NKF',\n",
       " 'BS': 'BOS',\n",
       " 'KK': 'KOK',\n",
       " 'VC': 'VVC',\n",
       " 'KP': 'KKP',\n",
       " 'CK': 'CPK',\n",
       " 'HN': 'HFN',\n",
       " 'KN': 'KHN',\n",
       " 'KH': 'KNH',\n",
       " 'SB': 'SSB',\n",
       " 'NO': 'NKO',\n",
       " 'HK': 'HHK',\n",
       " 'BF': 'BVF',\n",
       " 'SV': 'SBV',\n",
       " 'CV': 'CPV',\n",
       " 'CO': 'CPO',\n",
       " 'FC': 'FOC',\n",
       " 'CP': 'CHP',\n",
       " 'CC': 'CNC',\n",
       " 'CN': 'CPN',\n",
       " 'SK': 'SVK',\n",
       " 'SS': 'SVS',\n",
       " 'VH': 'VBH',\n",
       " 'OS': 'ONS',\n",
       " 'FB': 'FHB',\n",
       " 'NB': 'NNB',\n",
       " 'SC': 'SKC',\n",
       " 'NV': 'NHV',\n",
       " 'HO': 'HSO',\n",
       " 'SO': 'SPO',\n",
       " 'PH': 'PCH',\n",
       " 'VO': 'VOO',\n",
       " 'OB': 'OOB',\n",
       " 'FK': 'FSK',\n",
       " 'PN': 'PPN',\n",
       " 'VK': 'VOK',\n",
       " 'NH': 'NNH',\n",
       " 'OC': 'OBC',\n",
       " 'BP': 'BOP',\n",
       " 'PF': 'PFF',\n",
       " 'KB': 'KKB',\n",
       " 'KV': 'KBV',\n",
       " 'PO': 'PNO',\n",
       " 'NN': 'NKN',\n",
       " 'CH': 'COH',\n",
       " 'KC': 'KPC',\n",
       " 'OP': 'OVP',\n",
       " 'VP': 'VFP',\n",
       " 'OK': 'OPK',\n",
       " 'FS': 'FKS',\n",
       " 'CB': 'CSB',\n",
       " 'HB': 'HNB',\n",
       " 'KS': 'KOS',\n",
       " 'BK': 'BCK',\n",
       " 'BV': 'BOV',\n",
       " 'SH': 'SHH',\n",
       " 'PS': 'PNS',\n",
       " 'HS': 'HKS',\n",
       " 'KO': 'KNO'}"
      ]
     },
     "execution_count": 2,
     "metadata": {},
     "output_type": "execute_result"
    }
   ],
   "source": [
    "rules"
   ]
  },
  {
   "cell_type": "code",
   "execution_count": 3,
   "metadata": {},
   "outputs": [],
   "source": [
    "def polymerize(template, rules):\n",
    "    n = len(template)\n",
    "    new_template = template[0]\n",
    "    for i in range(n - 1):\n",
    "        pair = template[i] + template[i + 1]\n",
    "        if pair in rules:\n",
    "            new_template += rules[pair][1:]\n",
    "            continue\n",
    "        new_template += pair[-1]\n",
    "    return new_template"
   ]
  },
  {
   "cell_type": "code",
   "execution_count": 4,
   "metadata": {},
   "outputs": [],
   "source": [
    "def get_freq(s):\n",
    "    freq = dict()\n",
    "    for char in set(s):\n",
    "        freq[char] = s.count(char)\n",
    "    return freq\n",
    "\n",
    "def get_result(freq):\n",
    "    return max(freq.values()) - min(freq.values())"
   ]
  },
  {
   "cell_type": "code",
   "execution_count": 5,
   "metadata": {},
   "outputs": [
    {
     "data": {
      "text/plain": [
       "3411"
      ]
     },
     "execution_count": 5,
     "metadata": {},
     "output_type": "execute_result"
    }
   ],
   "source": [
    "STEPS = 10\n",
    "\n",
    "for _ in range(STEPS):\n",
    "    template = polymerize(template, rules)\n",
    "    \n",
    "get_result(get_freq(template))"
   ]
  },
  {
   "cell_type": "markdown",
   "metadata": {},
   "source": [
    "## --- Part Two ---\n",
    "\n",
    "The resulting polymer isn't nearly strong enough to reinforce the submarine. You'll need to run more steps of the pair insertion process; a total of 40 steps should do it.\n",
    "\n",
    "In the above example, the most common element is B (occurring 2192039569602 times) and the least common element is H (occurring 3849876073 times); subtracting these produces 2188189693529.\n",
    "\n",
    "Apply 40 steps of pair insertion to the polymer template and find the most and least common elements in the result. What do you get if you take the quantity of the most common element and subtract the quantity of the least common element?"
   ]
  },
  {
   "cell_type": "code",
   "execution_count": 6,
   "metadata": {},
   "outputs": [
    {
     "data": {
      "text/plain": [
       "'SNPVPFCPPKSBNSPSPSOF'"
      ]
     },
     "execution_count": 6,
     "metadata": {},
     "output_type": "execute_result"
    }
   ],
   "source": [
    "rules = dict()\n",
    "\n",
    "with open('input.txt') as f:\n",
    "    template = f.readline().strip()\n",
    "    f.readline()\n",
    "    for line in f.readlines():\n",
    "        u, v = [x.strip() for x in line.split('->')]\n",
    "        rules[u] = v\n",
    "        \n",
    "template"
   ]
  },
  {
   "cell_type": "code",
   "execution_count": 7,
   "metadata": {},
   "outputs": [
    {
     "data": {
      "text/plain": [
       "{'CF': 'N',\n",
       " 'NK': 'B',\n",
       " 'SF': 'B',\n",
       " 'HV': 'P',\n",
       " 'FN': 'S',\n",
       " 'VV': 'F',\n",
       " 'FO': 'F',\n",
       " 'VN': 'V',\n",
       " 'PV': 'P',\n",
       " 'FF': 'P',\n",
       " 'ON': 'S',\n",
       " 'PB': 'S',\n",
       " 'PK': 'P',\n",
       " 'OO': 'P',\n",
       " 'SP': 'F',\n",
       " 'VF': 'H',\n",
       " 'OV': 'C',\n",
       " 'BN': 'P',\n",
       " 'OH': 'H',\n",
       " 'NC': 'F',\n",
       " 'BH': 'N',\n",
       " 'CS': 'C',\n",
       " 'BC': 'N',\n",
       " 'OF': 'N',\n",
       " 'SN': 'B',\n",
       " 'FP': 'F',\n",
       " 'FV': 'K',\n",
       " 'HP': 'H',\n",
       " 'VB': 'P',\n",
       " 'FH': 'F',\n",
       " 'HF': 'P',\n",
       " 'BB': 'O',\n",
       " 'HH': 'S',\n",
       " 'PC': 'O',\n",
       " 'PP': 'B',\n",
       " 'VS': 'B',\n",
       " 'HC': 'H',\n",
       " 'NS': 'N',\n",
       " 'KF': 'S',\n",
       " 'BO': 'V',\n",
       " 'NP': 'S',\n",
       " 'NF': 'K',\n",
       " 'BS': 'O',\n",
       " 'KK': 'O',\n",
       " 'VC': 'V',\n",
       " 'KP': 'K',\n",
       " 'CK': 'P',\n",
       " 'HN': 'F',\n",
       " 'KN': 'H',\n",
       " 'KH': 'N',\n",
       " 'SB': 'S',\n",
       " 'NO': 'K',\n",
       " 'HK': 'H',\n",
       " 'BF': 'V',\n",
       " 'SV': 'B',\n",
       " 'CV': 'P',\n",
       " 'CO': 'P',\n",
       " 'FC': 'O',\n",
       " 'CP': 'H',\n",
       " 'CC': 'N',\n",
       " 'CN': 'P',\n",
       " 'SK': 'V',\n",
       " 'SS': 'V',\n",
       " 'VH': 'B',\n",
       " 'OS': 'N',\n",
       " 'FB': 'H',\n",
       " 'NB': 'N',\n",
       " 'SC': 'K',\n",
       " 'NV': 'H',\n",
       " 'HO': 'S',\n",
       " 'SO': 'P',\n",
       " 'PH': 'C',\n",
       " 'VO': 'O',\n",
       " 'OB': 'O',\n",
       " 'FK': 'S',\n",
       " 'PN': 'P',\n",
       " 'VK': 'O',\n",
       " 'NH': 'N',\n",
       " 'OC': 'B',\n",
       " 'BP': 'O',\n",
       " 'PF': 'F',\n",
       " 'KB': 'K',\n",
       " 'KV': 'B',\n",
       " 'PO': 'N',\n",
       " 'NN': 'K',\n",
       " 'CH': 'O',\n",
       " 'KC': 'P',\n",
       " 'OP': 'V',\n",
       " 'VP': 'F',\n",
       " 'OK': 'P',\n",
       " 'FS': 'K',\n",
       " 'CB': 'S',\n",
       " 'HB': 'N',\n",
       " 'KS': 'O',\n",
       " 'BK': 'C',\n",
       " 'BV': 'O',\n",
       " 'SH': 'H',\n",
       " 'PS': 'N',\n",
       " 'HS': 'K',\n",
       " 'KO': 'N'}"
      ]
     },
     "execution_count": 7,
     "metadata": {},
     "output_type": "execute_result"
    }
   ],
   "source": [
    "rules"
   ]
  },
  {
   "cell_type": "code",
   "execution_count": 8,
   "metadata": {},
   "outputs": [],
   "source": [
    "from collections import defaultdict\n",
    "\n",
    "def get_pair_freq(template):\n",
    "    n = len(template)\n",
    "    freq = defaultdict(int)\n",
    "    for i in range(n - 1):\n",
    "        pair = template[i] + template[i + 1]\n",
    "        freq[pair] += 1\n",
    "    return freq\n",
    "\n",
    "def update_pair_freq(freq, rules):\n",
    "    new_freq = defaultdict(int)\n",
    "    for pair, count in freq.items():\n",
    "        if pair in rules:\n",
    "            new_freq[pair[0] + rules[pair]] += count\n",
    "            new_freq[rules[pair] + pair[1]] += count\n",
    "        else:\n",
    "            new_freq[pair] = count\n",
    "    return new_freq"
   ]
  },
  {
   "cell_type": "code",
   "execution_count": 9,
   "metadata": {},
   "outputs": [],
   "source": [
    "def get_pair_result(template, pair_freq):\n",
    "    freq = defaultdict(int)\n",
    "    for pair, count in pair_freq.items():\n",
    "        freq[pair[-1]] += count\n",
    "    freq[template[0]] += 1\n",
    "    return max(freq.values()) - min(freq.values())"
   ]
  },
  {
   "cell_type": "code",
   "execution_count": 10,
   "metadata": {},
   "outputs": [
    {
     "data": {
      "text/plain": [
       "7477815755570"
      ]
     },
     "execution_count": 10,
     "metadata": {},
     "output_type": "execute_result"
    }
   ],
   "source": [
    "ITER = 40\n",
    "pair_freq = get_pair_freq(template)\n",
    "\n",
    "for i in range(ITER):\n",
    "    pair_freq = update_pair_freq(pair_freq, rules)\n",
    "\n",
    "get_pair_result(template, pair_freq)"
   ]
  }
 ],
 "metadata": {
  "kernelspec": {
   "display_name": "Python 3",
   "language": "python",
   "name": "python3"
  },
  "language_info": {
   "codemirror_mode": {
    "name": "ipython",
    "version": 3
   },
   "file_extension": ".py",
   "mimetype": "text/x-python",
   "name": "python",
   "nbconvert_exporter": "python",
   "pygments_lexer": "ipython3",
   "version": "3.7.4"
  }
 },
 "nbformat": 4,
 "nbformat_minor": 2
}
