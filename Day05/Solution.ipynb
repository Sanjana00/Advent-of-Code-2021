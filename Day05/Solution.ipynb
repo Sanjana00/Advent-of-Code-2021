{
 "cells": [
  {
   "cell_type": "markdown",
   "metadata": {},
   "source": [
    "# --- Day 5: Hydrothermal Venture ---\n",
    "\n",
    "You come across a field of hydrothermal vents on the ocean floor! These vents constantly produce large, opaque clouds, so it would be best to avoid them if possible.\n",
    "\n",
    "They tend to form in lines; the submarine helpfully produces a list of nearby lines of vents (your puzzle input) for you to review. For example:\n",
    "\n",
    "    0,9 -> 5,9\n",
    "    8,0 -> 0,8\n",
    "    9,4 -> 3,4\n",
    "    2,2 -> 2,1\n",
    "    7,0 -> 7,4\n",
    "    6,4 -> 2,0\n",
    "    0,9 -> 2,9\n",
    "    3,4 -> 1,4\n",
    "    0,0 -> 8,8\n",
    "    5,5 -> 8,2\n",
    "\n",
    "Each line of vents is given as a line segment in the format x1,y1 -> x2,y2 where x1,y1 are the coordinates of one end the line segment and x2,y2 are the coordinates of the other end. These line segments include the points at both ends. In other words:\n",
    "\n",
    "An entry like 1,1 -> 1,3 covers points 1,1, 1,2, and 1,3.\n",
    "An entry like 9,7 -> 7,7 covers points 9,7, 8,7, and 7,7.\n",
    "For now, only consider horizontal and vertical lines: lines where either x1 = x2 or y1 = y2.\n",
    "\n",
    "So, the horizontal and vertical lines from the above list would produce the following diagram:\n",
    "\n",
    "    .......1..\n",
    "    ..1....1..\n",
    "    ..1....1..\n",
    "    .......1..\n",
    "    .112111211\n",
    "    ..........\n",
    "    ..........\n",
    "    ..........\n",
    "    ..........\n",
    "    222111....\n",
    "    \n",
    "In this diagram, the top left corner is 0,0 and the bottom right corner is 9,9. Each position is shown as the number of lines which cover that point or . if no line covers that point. The top-left pair of 1s, for example, comes from 2,2 -> 2,1; the very bottom row is formed by the overlapping lines 0,9 -> 5,9 and 0,9 -> 2,9.\n",
    "\n",
    "To avoid the most dangerous areas, you need to determine the number of points where at least two lines overlap. In the above example, this is anywhere in the diagram with a 2 or larger - a total of 5 points.\n",
    "\n",
    "Consider only horizontal and vertical lines. At how many points do at least two lines overlap?"
   ]
  },
  {
   "cell_type": "code",
   "execution_count": 1,
   "metadata": {},
   "outputs": [],
   "source": [
    "with open('input.txt') as f:\n",
    "    lines = [[tuple([int(x) for x in l.strip().split(',')]) for l in line.split('->')] for line in f.readlines()]"
   ]
  },
  {
   "cell_type": "code",
   "execution_count": 2,
   "metadata": {},
   "outputs": [
    {
     "data": {
      "text/plain": [
       "5306"
      ]
     },
     "execution_count": 2,
     "metadata": {},
     "output_type": "execute_result"
    }
   ],
   "source": [
    "from collections import defaultdict\n",
    "\n",
    "count = defaultdict(int)\n",
    "\n",
    "for start, end in lines:\n",
    "    if start[0] != end[0] and start[1] != end[1]:\n",
    "        continue\n",
    "    if start == end:\n",
    "        continue\n",
    "    if start[0] == end[0]:\n",
    "        x1, y1 = start\n",
    "        x2, y2 = end\n",
    "        count[start] += 1\n",
    "        delta = (y2 - y1) // abs(y2 - y1)\n",
    "        while y1 != y2:\n",
    "            y1 += delta\n",
    "            count[(x1, y1)] += 1\n",
    "    if start[1] == end[1]:\n",
    "        x1, y1 = start\n",
    "        x2, y2 = end\n",
    "        count[start] += 1\n",
    "        delta = (x2 - x1) // abs(x2 - x1)\n",
    "        while x1 != x2:\n",
    "            x1 += delta\n",
    "            count[(x1, y1)] += 1\n",
    "\n",
    "            \n",
    "len(list(filter(lambda x: x > 1, count.values())))"
   ]
  },
  {
   "cell_type": "markdown",
   "metadata": {},
   "source": [
    "## --- Part Two ---\n",
    "\n",
    "Unfortunately, considering only horizontal and vertical lines doesn't give you the full picture; you need to also consider diagonal lines.\n",
    "\n",
    "Because of the limits of the hydrothermal vent mapping system, the lines in your list will only ever be horizontal, vertical, or a diagonal line at exactly 45 degrees. In other words:\n",
    "\n",
    "    An entry like 1,1 -> 3,3 covers points 1,1, 2,2, and 3,3.\n",
    "    An entry like 9,7 -> 7,9 covers points 9,7, 8,8, and 7,9.\n",
    "    \n",
    "Considering all lines from the above example would now produce the following diagram:\n",
    "\n",
    "    1.1....11.\n",
    "    .111...2..\n",
    "    ..2.1.111.\n",
    "    ...1.2.2..\n",
    "    .112313211\n",
    "    ...1.2....\n",
    "    ..1...1...\n",
    "    .1.....1..\n",
    "    1.......1.\n",
    "    222111....\n",
    "\n",
    "You still need to determine the number of points where at least two lines overlap. In the above example, this is still anywhere in the diagram with a 2 or larger - now a total of 12 points.\n",
    "\n",
    "Consider all of the lines. At how many points do at least two lines overlap?"
   ]
  },
  {
   "cell_type": "code",
   "execution_count": 3,
   "metadata": {},
   "outputs": [
    {
     "data": {
      "text/plain": [
       "17787"
      ]
     },
     "execution_count": 3,
     "metadata": {},
     "output_type": "execute_result"
    }
   ],
   "source": [
    "new_count = defaultdict(int)\n",
    "\n",
    "for start, end in lines:\n",
    "    x1, y1 = start\n",
    "    x2, y2 = end\n",
    "    x, y = start\n",
    "    dx = 1 if x2 > x1 else (-1 if x2 < x1 else 0)\n",
    "    dy = 1 if y2 > y1 else (-1 if y2 < y1 else 0)\n",
    "    while x != x2 or y != y2:\n",
    "        new_count[(x, y)] += 1\n",
    "        x += dx\n",
    "        y += dy\n",
    "    new_count[(x2, y2)] += 1\n",
    "    \n",
    "len([value for value in new_count.values() if value > 1])"
   ]
  }
 ],
 "metadata": {
  "kernelspec": {
   "display_name": "Python 3",
   "language": "python",
   "name": "python3"
  },
  "language_info": {
   "codemirror_mode": {
    "name": "ipython",
    "version": 3
   },
   "file_extension": ".py",
   "mimetype": "text/x-python",
   "name": "python",
   "nbconvert_exporter": "python",
   "pygments_lexer": "ipython3",
   "version": "3.7.4"
  }
 },
 "nbformat": 4,
 "nbformat_minor": 2
}
