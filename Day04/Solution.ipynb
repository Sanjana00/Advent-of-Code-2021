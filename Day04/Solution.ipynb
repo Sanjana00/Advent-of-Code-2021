{
 "cells": [
  {
   "cell_type": "markdown",
   "metadata": {},
   "source": [
    "# --- Day 4: Giant Squid ---\n",
    "\n",
    "You're already almost 1.5km (almost a mile) below the surface of the ocean, already so deep that you can't see any sunlight. What you can see, however, is a giant squid that has attached itself to the outside of your submarine.\n",
    "\n",
    "Maybe it wants to play bingo?\n",
    "\n",
    "Bingo is played on a set of boards each consisting of a 5x5 grid of numbers. Numbers are chosen at random, and the chosen number is marked on all boards on which it appears. (Numbers may not appear on all boards.) If all numbers in any row or any column of a board are marked, that board wins. (Diagonals don't count.)\n",
    "\n",
    "The submarine has a bingo subsystem to help passengers (currently, you and the giant squid) pass the time. It automatically generates a random order in which to draw numbers and a random set of boards (your puzzle input). For example:"
   ]
  },
  {
   "cell_type": "markdown",
   "metadata": {},
   "source": [
    "    7,4,9,5,11,17,23,2,0,14,21,24,10,16,13,6,15,25,12,22,18,20,8,19,3,26,1\n",
    "\n",
    "    22 13 17 11  0\n",
    "     8  2 23  4 24\n",
    "    21  9 14 16  7\n",
    "     6 10  3 18  5\n",
    "     1 12 20 15 19\n",
    "\n",
    "     3 15  0  2 22\n",
    "     9 18 13 17  5\n",
    "    19  8  7 25 23\n",
    "    20 11 10 24  4\n",
    "    14 21 16 12  6\n",
    "\n",
    "    14 21 17 24  4\n",
    "    10 16 15  9 19\n",
    "    18  8 23 26 20\n",
    "    22 11 13  6  5\n",
    "     2  0 12  3  7"
   ]
  },
  {
   "cell_type": "markdown",
   "metadata": {},
   "source": [
    "After the first five numbers are drawn (7, 4, 9, 5, and 11), there are no winners, but the boards are marked as follows (shown here adjacent to each other to save space):\n",
    "\n",
    "    22 13 17 11  0         3 15  0  2 22        14 21 17 24  4\n",
    "     8  2 23  4 24         9 18 13 17  5        10 16 15  9 19\n",
    "    21  9 14 16  7        19  8  7 25 23        18  8 23 26 20\n",
    "     6 10  3 18  5        20 11 10 24  4        22 11 13  6  5\n",
    "     1 12 20 15 19        14 21 16 12  6         2  0 12  3  7"
   ]
  },
  {
   "cell_type": "markdown",
   "metadata": {},
   "source": [
    "After the next six numbers are drawn (17, 23, 2, 0, 14, and 21), there are still no winners:\n",
    "\n",
    "    22 13 17 11  0         3 15  0  2 22        14 21 17 24  4\n",
    "     8  2 23  4 24         9 18 13 17  5        10 16 15  9 19\n",
    "    21  9 14 16  7        19  8  7 25 23        18  8 23 26 20\n",
    "     6 10  3 18  5        20 11 10 24  4        22 11 13  6  5\n",
    "     1 12 20 15 19        14 21 16 12  6         2  0 12  3  7\n",
    "     \n",
    "Finally, 24 is drawn:\n",
    "\n",
    "    22 13 17 11  0         3 15  0  2 22        14 21 17 24  4\n",
    "     8  2 23  4 24         9 18 13 17  5        10 16 15  9 19\n",
    "    21  9 14 16  7        19  8  7 25 23        18  8 23 26 20\n",
    "     6 10  3 18  5        20 11 10 24  4        22 11 13  6  5\n",
    "     1 12 20 15 19        14 21 16 12  6         2  0 12  3  7\n",
    "     \n",
    "At this point, the third board wins because it has at least one complete row or column of marked numbers (in this case, the entire top row is marked: 14 21 17 24 4).\n",
    "\n",
    "The score of the winning board can now be calculated. Start by finding the sum of all unmarked numbers on that board; in this case, the sum is 188. Then, multiply that sum by the number that was just called when the board won, 24, to get the final score, 188 * 24 = 4512.\n",
    "\n",
    "To guarantee victory against the giant squid, figure out which board will win first. What will your final score be if you choose that board?"
   ]
  },
  {
   "cell_type": "code",
   "execution_count": 1,
   "metadata": {},
   "outputs": [],
   "source": [
    "with open('input.txt') as f:\n",
    "    bingo = [int(x) for x in f.readline().split(',')]\n",
    "    read_input = [line.strip() for line in list(filter(lambda x: x != '\\n', f.readlines()))]"
   ]
  },
  {
   "cell_type": "code",
   "execution_count": 2,
   "metadata": {},
   "outputs": [],
   "source": [
    "SIZE = 5\n",
    "ROWS = [(0, 1, 2, 3, 4), (5, 6, 7, 8, 9), (10, 11, 12, 13, 14), (15, 16, 17, 18, 19), (20, 21, 22, 23, 24)]\n",
    "COLS = [(0, 5, 10, 15, 20), (1, 6, 11, 16, 21), (2, 7, 12, 17, 22), (3, 8, 13, 18, 23), (4, 9, 14, 19, 24)]\n",
    "\n",
    "boards = [[[int(x), False] for x in ' '.join([line.strip() for line in read_input[i:i + SIZE]]).split()] for i in range(0, len(read_input), SIZE)]"
   ]
  },
  {
   "cell_type": "code",
   "execution_count": 3,
   "metadata": {},
   "outputs": [],
   "source": [
    "def mark_board(b, num):\n",
    "    for i, piece in enumerate(b):\n",
    "        if num == piece[0] and not piece[1]:\n",
    "            piece[1] = True\n",
    "            return\n",
    "\n",
    "def check_win(b):\n",
    "    for line in ROWS + COLS:\n",
    "        if all(b[idx][1] for idx in line):\n",
    "            return True, line\n",
    "    return False, None"
   ]
  },
  {
   "cell_type": "code",
   "execution_count": 4,
   "metadata": {},
   "outputs": [
    {
     "name": "stdout",
     "output_type": "stream",
     "text": [
      "55770\n"
     ]
    }
   ],
   "source": [
    "for num in bingo:\n",
    "    for board in boards:\n",
    "        mark_board(board, num)\n",
    "        status, response = check_win(board)\n",
    "        if status:\n",
    "            print(sum([board[idx][0] for idx in range(SIZE ** 2) if not board[idx][1]]) * num)\n",
    "            break\n",
    "    if status:\n",
    "        break"
   ]
  },
  {
   "cell_type": "markdown",
   "metadata": {},
   "source": [
    "## --- Part Two ---\n",
    "\n",
    "On the other hand, it might be wise to try a different strategy: let the giant squid win.\n",
    "\n",
    "You aren't sure how many bingo boards a giant squid could play at once, so rather than waste time counting its arms, the safe thing to do is to figure out which board will win last and choose that one. That way, no matter which boards it picks, it will win for sure.\n",
    "\n",
    "In the above example, the second board is the last to win, which happens after 13 is eventually called and its middle column is completely marked. If you were to keep playing until this point, the second board would have a sum of unmarked numbers equal to 148 for a final score of 148 * 13 = 1924.\n",
    "\n",
    "Figure out which board will win last. Once it wins, what would its final score be?"
   ]
  },
  {
   "cell_type": "code",
   "execution_count": 5,
   "metadata": {},
   "outputs": [],
   "source": [
    "# Reset inputs\n",
    "\n",
    "with open('input.txt') as f:\n",
    "    bingo = [int(x) for x in f.readline().split(',')]\n",
    "    read_input = [line.strip() for line in list(filter(lambda x: x != '\\n', f.readlines()))]\n",
    "\n",
    "boards = [[[[int(x), False] for x in ' '.join([line.strip() for line in read_input[i:i + SIZE]]).split()], False] for i in range(0, len(read_input), SIZE)]"
   ]
  },
  {
   "cell_type": "code",
   "execution_count": 6,
   "metadata": {},
   "outputs": [
    {
     "name": "stdout",
     "output_type": "stream",
     "text": [
      "2980\n"
     ]
    }
   ],
   "source": [
    "BOARD_COUNT = len(boards)\n",
    "count = 0\n",
    "\n",
    "for num in bingo:\n",
    "    for i, (board, won) in enumerate(boards):\n",
    "        if won:\n",
    "            continue\n",
    "        mark_board(board, num)\n",
    "        status, response = check_win(board)\n",
    "        if status:\n",
    "            boards[i][1] = True\n",
    "            count += 1\n",
    "            if count == BOARD_COUNT:\n",
    "                print(sum([board[idx][0] for idx in range(SIZE ** 2) if not board[idx][1]]) * num)"
   ]
  }
 ],
 "metadata": {
  "kernelspec": {
   "display_name": "Python 3",
   "language": "python",
   "name": "python3"
  },
  "language_info": {
   "codemirror_mode": {
    "name": "ipython",
    "version": 3
   },
   "file_extension": ".py",
   "mimetype": "text/x-python",
   "name": "python",
   "nbconvert_exporter": "python",
   "pygments_lexer": "ipython3",
   "version": "3.7.4"
  }
 },
 "nbformat": 4,
 "nbformat_minor": 2
}
